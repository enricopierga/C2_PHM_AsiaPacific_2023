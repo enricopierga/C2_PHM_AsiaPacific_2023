{
 "cells": [
  {
   "cell_type": "markdown",
   "metadata": {},
   "source": [
    "# Task 1\n",
    "Il primo task consiste nel classificare i casi normali e anormali."
   ]
  },
  {
   "cell_type": "markdown",
   "metadata": {},
   "source": [
    "Importazione di train_data_aggregated.pkl"
   ]
  },
  {
   "cell_type": "code",
   "execution_count": 1,
   "metadata": {},
   "outputs": [
    {
     "name": "stdout",
     "output_type": "stream",
     "text": [
      "   Spacecraft Condition  SV1  SV2  SV3  SV4 BP1 BP2 BP3 BP4  ...  \\\n",
      "0           1    Normal  100  100  100  100  No  No  No  No  ...   \n",
      "1           1    Normal  100  100  100  100  No  No  No  No  ...   \n",
      "2           1    Normal  100  100  100  100  No  No  No  No  ...   \n",
      "3           1    Normal  100  100  100  100  No  No  No  No  ...   \n",
      "4           1    Normal  100  100  100  100  No  No  No  No  ...   \n",
      "\n",
      "  P7_time_variance P7_time_line_integral P7_time_min P7_time_max  \\\n",
      "0         0.329054           2366.012724   -0.003006    5.017115   \n",
      "1         0.335404           2366.376508   -0.003786    4.999330   \n",
      "2         0.353392           2368.725329   -0.007141    5.000936   \n",
      "3         0.321221           2365.701657   -0.002395    5.008294   \n",
      "4         0.324006           2366.740718   -0.002607    4.998044   \n",
      "\n",
      "   P7_freq_peak_value  P7_freq_peak_freq  P7_freq_sum_power_spectrum  \\\n",
      "0        47260.680479          64.945878               237314.084554   \n",
      "1        47662.864823          64.945878               241893.822061   \n",
      "2        46019.998152          64.945878               254866.442384   \n",
      "3        46367.986582          64.945878               231664.969366   \n",
      "4        46805.662115          64.945878               233673.009183   \n",
      "\n",
      "   P7_freq_std_power_spectrum  P7_freq_rms_freq  Case  \n",
      "0                 2632.685347         19.887772     1  \n",
      "1                 2688.225229         20.078754     2  \n",
      "2                 2743.060363         20.610129     3  \n",
      "3                 2565.994380         19.649638     4  \n",
      "4                 2592.227655         19.734615     5  \n",
      "\n",
      "[5 rows x 106 columns]\n"
     ]
    }
   ],
   "source": [
    "import os\n",
    "import pandas as pd\n",
    "\n",
    "path_dataframes = os.path.join(\"..\", \"dataset\", \"dataframes\")\n",
    "file_path = os.path.join(path_dataframes, \"train_data_aggregated.pkl\")\n",
    "\n",
    "df_train_aggregated = pd.read_pickle(file_path)\n",
    "\n",
    "print(df_train_aggregated.head())"
   ]
  },
  {
   "cell_type": "code",
   "execution_count": 2,
   "metadata": {},
   "outputs": [
    {
     "name": "stdout",
     "output_type": "stream",
     "text": [
      "Colonne del Dataframe:\n",
      "Index(['Spacecraft', 'Condition', 'SV1', 'SV2', 'SV3', 'SV4', 'BP1', 'BP2',\n",
      "       'BP3', 'BP4',\n",
      "       ...\n",
      "       'P7_time_variance', 'P7_time_line_integral', 'P7_time_min',\n",
      "       'P7_time_max', 'P7_freq_peak_value', 'P7_freq_peak_freq',\n",
      "       'P7_freq_sum_power_spectrum', 'P7_freq_std_power_spectrum',\n",
      "       'P7_freq_rms_freq', 'Case'],\n",
      "      dtype='object', length=106)\n"
     ]
    }
   ],
   "source": [
    "print(\"Colonne del Dataframe:\")\n",
    "print(df_train_aggregated.columns)"
   ]
  },
  {
   "cell_type": "markdown",
   "metadata": {},
   "source": [
    "Rimuoviamo le colonne che non servono"
   ]
  },
  {
   "cell_type": "code",
   "execution_count": 3,
   "metadata": {},
   "outputs": [
    {
     "name": "stdout",
     "output_type": "stream",
     "text": [
      "Colonne dopo la rimozione:\n",
      "Index(['Condition', 'P1_time_mean', 'P1_time_median', 'P1_time_p25',\n",
      "       'P1_time_p75', 'P1_time_variance', 'P1_time_line_integral',\n",
      "       'P1_time_min', 'P1_time_max', 'P1_freq_peak_value', 'P1_freq_peak_freq',\n",
      "       'P1_freq_sum_power_spectrum', 'P1_freq_std_power_spectrum',\n",
      "       'P1_freq_rms_freq', 'P2_time_mean', 'P2_time_median', 'P2_time_p25',\n",
      "       'P2_time_p75', 'P2_time_variance', 'P2_time_line_integral',\n",
      "       'P2_time_min', 'P2_time_max', 'P2_freq_peak_value', 'P2_freq_peak_freq',\n",
      "       'P2_freq_sum_power_spectrum', 'P2_freq_std_power_spectrum',\n",
      "       'P2_freq_rms_freq', 'P3_time_mean', 'P3_time_median', 'P3_time_p25',\n",
      "       'P3_time_p75', 'P3_time_variance', 'P3_time_line_integral',\n",
      "       'P3_time_min', 'P3_time_max', 'P3_freq_peak_value', 'P3_freq_peak_freq',\n",
      "       'P3_freq_sum_power_spectrum', 'P3_freq_std_power_spectrum',\n",
      "       'P3_freq_rms_freq', 'P4_time_mean', 'P4_time_median', 'P4_time_p25',\n",
      "       'P4_time_p75', 'P4_time_variance', 'P4_time_line_integral',\n",
      "       'P4_time_min', 'P4_time_max', 'P4_freq_peak_value', 'P4_freq_peak_freq',\n",
      "       'P4_freq_sum_power_spectrum', 'P4_freq_std_power_spectrum',\n",
      "       'P4_freq_rms_freq', 'P5_time_mean', 'P5_time_median', 'P5_time_p25',\n",
      "       'P5_time_p75', 'P5_time_variance', 'P5_time_line_integral',\n",
      "       'P5_time_min', 'P5_time_max', 'P5_freq_peak_value', 'P5_freq_peak_freq',\n",
      "       'P5_freq_sum_power_spectrum', 'P5_freq_std_power_spectrum',\n",
      "       'P5_freq_rms_freq', 'P6_time_mean', 'P6_time_median', 'P6_time_p25',\n",
      "       'P6_time_p75', 'P6_time_variance', 'P6_time_line_integral',\n",
      "       'P6_time_min', 'P6_time_max', 'P6_freq_peak_value', 'P6_freq_peak_freq',\n",
      "       'P6_freq_sum_power_spectrum', 'P6_freq_std_power_spectrum',\n",
      "       'P6_freq_rms_freq', 'P7_time_mean', 'P7_time_median', 'P7_time_p25',\n",
      "       'P7_time_p75', 'P7_time_variance', 'P7_time_line_integral',\n",
      "       'P7_time_min', 'P7_time_max', 'P7_freq_peak_value', 'P7_freq_peak_freq',\n",
      "       'P7_freq_sum_power_spectrum', 'P7_freq_std_power_spectrum',\n",
      "       'P7_freq_rms_freq'],\n",
      "      dtype='object')\n"
     ]
    }
   ],
   "source": [
    "cols_to_drop = [\"Spacecraft\", \"SV1\", \"SV2\", \"SV3\", \"SV4\", \n",
    "                \"BP1\", \"BP2\", \"BP3\", \"BP4\", \"BP5\", \"BP6\", \"BP7\", \"BV1\", \"Case\"]\n",
    "\n",
    "df_train_aggregated = df_train_aggregated.drop(columns=cols_to_drop)\n",
    "print(\"Colonne dopo la rimozione:\")\n",
    "print(df_train_aggregated.columns)"
   ]
  },
  {
   "cell_type": "markdown",
   "metadata": {},
   "source": [
    "Creaiamo la colonna BinaryCondition: 0 per \"Normal\", 1 per \"Fault\" o \"Anomaly\""
   ]
  },
  {
   "cell_type": "code",
   "execution_count": 4,
   "metadata": {},
   "outputs": [],
   "source": [
    "df_train_aggregated[\"BinaryCondition\"] = df_train_aggregated[\"Condition\"].apply(\n",
    "    lambda x: 0 if x == \"Normal\" else 1\n",
    ")\n",
    "\n",
    "# Elimina la colonna \"Condition\"\n",
    "df_train_aggregated = df_train_aggregated.drop(columns=[\"Condition\"])"
   ]
  },
  {
   "cell_type": "code",
   "execution_count": 5,
   "metadata": {},
   "outputs": [
    {
     "name": "stdout",
     "output_type": "stream",
     "text": [
      "Index(['P1_time_mean', 'P1_time_median', 'P1_time_p25', 'P1_time_p75',\n",
      "       'P1_time_variance', 'P1_time_line_integral', 'P1_time_min',\n",
      "       'P1_time_max', 'P1_freq_peak_value', 'P1_freq_peak_freq',\n",
      "       'P1_freq_sum_power_spectrum', 'P1_freq_std_power_spectrum',\n",
      "       'P1_freq_rms_freq', 'P2_time_mean', 'P2_time_median', 'P2_time_p25',\n",
      "       'P2_time_p75', 'P2_time_variance', 'P2_time_line_integral',\n",
      "       'P2_time_min', 'P2_time_max', 'P2_freq_peak_value', 'P2_freq_peak_freq',\n",
      "       'P2_freq_sum_power_spectrum', 'P2_freq_std_power_spectrum',\n",
      "       'P2_freq_rms_freq', 'P3_time_mean', 'P3_time_median', 'P3_time_p25',\n",
      "       'P3_time_p75', 'P3_time_variance', 'P3_time_line_integral',\n",
      "       'P3_time_min', 'P3_time_max', 'P3_freq_peak_value', 'P3_freq_peak_freq',\n",
      "       'P3_freq_sum_power_spectrum', 'P3_freq_std_power_spectrum',\n",
      "       'P3_freq_rms_freq', 'P4_time_mean', 'P4_time_median', 'P4_time_p25',\n",
      "       'P4_time_p75', 'P4_time_variance', 'P4_time_line_integral',\n",
      "       'P4_time_min', 'P4_time_max', 'P4_freq_peak_value', 'P4_freq_peak_freq',\n",
      "       'P4_freq_sum_power_spectrum', 'P4_freq_std_power_spectrum',\n",
      "       'P4_freq_rms_freq', 'P5_time_mean', 'P5_time_median', 'P5_time_p25',\n",
      "       'P5_time_p75', 'P5_time_variance', 'P5_time_line_integral',\n",
      "       'P5_time_min', 'P5_time_max', 'P5_freq_peak_value', 'P5_freq_peak_freq',\n",
      "       'P5_freq_sum_power_spectrum', 'P5_freq_std_power_spectrum',\n",
      "       'P5_freq_rms_freq', 'P6_time_mean', 'P6_time_median', 'P6_time_p25',\n",
      "       'P6_time_p75', 'P6_time_variance', 'P6_time_line_integral',\n",
      "       'P6_time_min', 'P6_time_max', 'P6_freq_peak_value', 'P6_freq_peak_freq',\n",
      "       'P6_freq_sum_power_spectrum', 'P6_freq_std_power_spectrum',\n",
      "       'P6_freq_rms_freq', 'P7_time_mean', 'P7_time_median', 'P7_time_p25',\n",
      "       'P7_time_p75', 'P7_time_variance', 'P7_time_line_integral',\n",
      "       'P7_time_min', 'P7_time_max', 'P7_freq_peak_value', 'P7_freq_peak_freq',\n",
      "       'P7_freq_sum_power_spectrum', 'P7_freq_std_power_spectrum',\n",
      "       'P7_freq_rms_freq', 'BinaryCondition'],\n",
      "      dtype='object')\n"
     ]
    }
   ],
   "source": [
    "# Stampa il DataFrame aggiornato\n",
    "print(df_train_aggregated.columns)"
   ]
  },
  {
   "cell_type": "code",
   "execution_count": null,
   "metadata": {},
   "outputs": [],
   "source": [
    "#TODO: Creare metriche per valutare le features scelte (come richiesto da COLDS)"
   ]
  },
  {
   "cell_type": "markdown",
   "metadata": {},
   "source": [
    "Siamo pronti per applicare l'algoritmo di classificazione (Random Forest)"
   ]
  },
  {
   "cell_type": "code",
   "execution_count": 6,
   "metadata": {},
   "outputs": [
    {
     "data": {
      "image/png": "[encoded data removed]",
      "text/plain": [
       "<Figure size 600x400 with 2 Axes>"
      ]
     },
     "metadata": {},
     "output_type": "display_data"
    },
    {
     "name": "stdout",
     "output_type": "stream",
     "text": [
      "Classification Report:\n",
      "              precision    recall  f1-score   support\n",
      "\n",
      "           0       0.95      1.00      0.98        21\n",
      "           1       1.00      0.93      0.97        15\n",
      "\n",
      "    accuracy                           0.97        36\n",
      "   macro avg       0.98      0.97      0.97        36\n",
      "weighted avg       0.97      0.97      0.97        36\n",
      "\n",
      "Accuracy: 0.9722222222222222\n"
     ]
    }
   ],
   "source": [
    "import pandas as pd\n",
    "from sklearn.model_selection import train_test_split\n",
    "from sklearn.ensemble import RandomForestClassifier\n",
    "from sklearn.metrics import confusion_matrix, classification_report, accuracy_score\n",
    "import seaborn as sns\n",
    "import matplotlib.pyplot as plt\n",
    "\n",
    "# Assumendo che df_train_aggregated sia già disponibile nel workspace\n",
    "\n",
    "# 1. Separazione delle feature e del target\n",
    "X = df_train_aggregated.drop(columns=[\"BinaryCondition\"])\n",
    "y = df_train_aggregated[\"BinaryCondition\"]\n",
    "\n",
    "# 2. Divisione in training e test set (80% train, 20% test)\n",
    "X_train, X_test, y_train, y_test = train_test_split(\n",
    "    X, y, test_size=0.2, random_state=42, stratify=y\n",
    ")\n",
    "\n",
    "# 3. Addestramento del modello Random Forest\n",
    "rf_model = RandomForestClassifier(random_state=42)\n",
    "rf_model.fit(X_train, y_train)\n",
    "\n",
    "# 4. Previsione sul test set\n",
    "y_pred = rf_model.predict(X_test)\n",
    "\n",
    "# 5. Calcolo della matrice di confusione\n",
    "cm = confusion_matrix(y_test, y_pred)\n",
    "\n",
    "# Visualizza la matrice di confusione con una heatmap\n",
    "plt.figure(figsize=(6,4))\n",
    "sns.heatmap(cm, annot=True, fmt='d', cmap='Blues')\n",
    "plt.xlabel(\"Predicted\")\n",
    "plt.ylabel(\"Actual\")\n",
    "plt.title(\"Confusion Matrix\")\n",
    "plt.show()\n",
    "\n",
    "# 6. Calcolo e stampa delle metriche principali\n",
    "print(\"Classification Report:\")\n",
    "print(classification_report(y_test, y_pred))\n",
    "\n",
    "print(\"Accuracy:\", accuracy_score(y_test, y_pred))"
   ]
  }
 ],
 "metadata": {
  "kernelspec": {
   "display_name": "phm_env",
   "language": "python",
   "name": "python3"
  },
  "language_info": {
   "codemirror_mode": {
    "name": "ipython",
    "version": 3
   },
   "file_extension": ".py",
   "mimetype": "text/x-python",
   "name": "python",
   "nbconvert_exporter": "python",
   "pygments_lexer": "ipython3",
   "version": "3.12.4"
  }
 },
 "nbformat": 4,
 "nbformat_minor": 2
}
