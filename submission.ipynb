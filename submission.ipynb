{
 "cells": [
  {
   "cell_type": "markdown",
   "metadata": {},
   "source": [
    "## Calcolo del punteggio ottenuto"
   ]
  },
  {
   "cell_type": "code",
   "execution_count": 6,
   "metadata": {},
   "outputs": [
    {
     "name": "stdout",
     "output_type": "stream",
     "text": [
      "🎯 Punteggio totale: 890\n",
      "📊 Percentuale: 53.94%\n"
     ]
    }
   ],
   "source": [
    "import pandas as pd\n",
    "\n",
    "# Carica i file\n",
    "pred = pd.read_csv('./dataset/outputs/final_test_data_predictions.csv')\n",
    "gt = pd.read_csv('./dataset/test/answer_competition.csv')\n",
    "\n",
    "# Rinominare 'Case' in 'ID' per il merge\n",
    "pred = pred.rename(columns={\"Case\": \"ID\"})\n",
    "\n",
    "# Aggiungi colonna 'Spacecraft No.' a pred prendendola dal ground truth\n",
    "pred = pred.merge(gt[['ID', 'Spacecraft No.']], on='ID', how='left')\n",
    "\n",
    "# Merge completo per confronto con tutti i task\n",
    "merged = pred.merge(gt, on=['ID', 'Spacecraft No.'], suffixes=('_pred', '_gt'))\n",
    "\n",
    "# Inizializza punteggio totale e punteggio massimo possibile\n",
    "total_score = 0\n",
    "max_possible_score = 0\n",
    "\n",
    "# Ciclo su ogni riga\n",
    "for _, row in merged.iterrows():\n",
    "    multiplier = 2 if row['Spacecraft No.'] == 4 else 1\n",
    "    score = 0\n",
    "    max_score = 10  # Task 1 è sempre valutabile\n",
    "\n",
    "    # --- TASK 1: Normal/Abnormal ---\n",
    "    pred_abnormal = 1 if row['Condition'] in [2, 3] else 0\n",
    "    gt_abnormal = row['task1']\n",
    "    if pred_abnormal == gt_abnormal:\n",
    "        score += 10\n",
    "\n",
    "        # --- TASK 2: Tipo di anomalia (solo se anomalia corretta) ---\n",
    "        max_score += 10\n",
    "        if pred_abnormal == 1 and row['Condition'] == row['task2']:\n",
    "            score += 10\n",
    "\n",
    "            # --- TASK 3 ---\n",
    "            if row['Condition'] == 2:\n",
    "                max_score += 10\n",
    "                if row['anomaly_location'] == row['task3']:\n",
    "                    score += 10\n",
    "\n",
    "            # --- TASK 4 ---\n",
    "            if row['Condition'] == 3:\n",
    "                max_score += 10\n",
    "                if row['fault_location'] == row['task3']:\n",
    "                    score += 10\n",
    "\n",
    "                # --- TASK 5: apertura valvola ---\n",
    "                max_score += 20\n",
    "                diff = abs(row['valve_opening'] - row['task4'])\n",
    "                valve_score = max(-diff + 20, 0)\n",
    "                score += valve_score\n",
    "\n",
    "    total_score += score * multiplier\n",
    "    max_possible_score += max_score * multiplier\n",
    "\n",
    "# Percentuale\n",
    "percentage = (total_score / max_possible_score) * 100 if max_possible_score > 0 else 0\n",
    "\n",
    "print(f\"🎯 Punteggio totale: {total_score}\")\n",
    "print(f\"📊 Percentuale: {percentage:.2f}%\")\n"
   ]
  }
 ],
 "metadata": {
  "kernelspec": {
   "display_name": "phm_env",
   "language": "python",
   "name": "python3"
  },
  "language_info": {
   "codemirror_mode": {
    "name": "ipython",
    "version": 3
   },
   "file_extension": ".py",
   "mimetype": "text/x-python",
   "name": "python",
   "nbconvert_exporter": "python",
   "pygments_lexer": "ipython3",
   "version": "3.12.4"
  }
 },
 "nbformat": 4,
 "nbformat_minor": 2
}
